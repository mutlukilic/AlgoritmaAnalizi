{
 "cells": [
  {
   "cell_type": "code",
   "execution_count": 1,
   "metadata": {},
   "outputs": [],
   "source": [
    "# matrix_1 mxn \n",
    "# matrix_2 nxp\n",
    "# matrix_3=matrix_1 * matrix_2   , mxp\n"
   ]
  },
  {
   "cell_type": "code",
   "execution_count": 7,
   "metadata": {},
   "outputs": [
    {
     "data": {
      "text/plain": [
       "70"
      ]
     },
     "execution_count": 7,
     "metadata": {},
     "output_type": "execute_result"
    }
   ],
   "source": [
    "def get_value_from_row_col(r_1,c_1):#a matrisinin birinci satırı\n",
    "    t=0\n",
    "    for i in range(len(r_1)):#r_1  de olur c_1 de olur. Çünkü ikiside aynı boyutta olmak zorunda\n",
    "        t=t+r_1[i]*c_1[i]\n",
    "    return t\n",
    "a=[1,2,3,4]\n",
    "b=[5,6,7,8]\n",
    "get_value_from_row_col(a,b)\n",
    "#bunun karmısıklıgı : O(n)  Q(n) ' de olabilir."
   ]
  },
  {
   "cell_type": "code",
   "execution_count": 26,
   "metadata": {},
   "outputs": [],
   "source": [
    "a=[[1,2,3,4],[5,6,7,8],[1,2,3,4],[5,6,7,8]] #4x4\n",
    "b=[[1,2,3,4],[5,6,7,8]] #2x4"
   ]
  },
  {
   "cell_type": "code",
   "execution_count": 24,
   "metadata": {},
   "outputs": [
    {
     "data": {
      "text/plain": [
       "[2, 6]"
      ]
     },
     "execution_count": 24,
     "metadata": {},
     "output_type": "execute_result"
    }
   ],
   "source": [
    "def get_row_from_matrix(a,i): #i. satırı vermesini istiyoruz. \n",
    "    return a[i]\n",
    "def get_col_from_matrix(a,j):\n",
    "    col=[]\n",
    "    for row in a:\n",
    "        col.append(row[j])\n",
    "        #for indis in range(len(row)):\n",
    "            #if(indis==j):\n",
    "                #col.append(row[indis])\n",
    "    return col\n",
    "get_col_from_matrix(a,1)"
   ]
  },
  {
   "cell_type": "code",
   "execution_count": 27,
   "metadata": {},
   "outputs": [
    {
     "data": {
      "text/plain": [
       "([[1, 2, 3, 4], [5, 6, 7, 8], [1, 2, 3, 4], [5, 6, 7, 8]],\n",
       " [[1, 2, 3, 4], [5, 6, 7, 8]])"
      ]
     },
     "execution_count": 27,
     "metadata": {},
     "output_type": "execute_result"
    }
   ],
   "source": [
    "def matrix_multiply(m_1,m_2): #karmasıklık O(mnp), O(n**3)\n",
    "    m=len(m_1)\n",
    "    n=len(m_2[0])\n",
    "    r=[]\n",
    "    for i in range(m):\n",
    "        r.append([])\n",
    "        for j in range(n):\n",
    "            a=get_row_from_matrix(m_1,i)\n",
    "            b=get_col_from_matrix(m_2,j)\n",
    "            c=get_value_from_row_col(a,b)\n",
    "            r[i].append(c)\n",
    "    return r\n",
    "a,b"
   ]
  },
  {
   "cell_type": "code",
   "execution_count": 22,
   "metadata": {},
   "outputs": [
    {
     "data": {
      "text/plain": [
       "[[34, 48, 61], [82, 116, 149]]"
      ]
     },
     "execution_count": 22,
     "metadata": {},
     "output_type": "execute_result"
    }
   ],
   "source": [
    "def matrix_multiply(m_1,m_2): #karmasıklık O(mnp), O(n**3)\n",
    "    m=len(m_1)\n",
    "    n=len(m_2[0])\n",
    "    r=[]\n",
    "    for i in range(m):\n",
    "        r.append([])\n",
    "        for j in range(n):\n",
    "            a=get_row_from_matrix(m_1,i)\n",
    "            b=get_col_from_matrix(m_2,j)\n",
    "            c=get_value_from_row_col(a,b)\n",
    "            r[i].append(c)\n",
    "    return r\n",
    "a=[[1,2,3,4],[5,6,7,8]]\n",
    "b=[[1,2,3],[5,6,7],[1,2,4],[5,7,8]]\n",
    "matrix_multiply(a,b)"
   ]
  },
  {
   "cell_type": "code",
   "execution_count": 12,
   "metadata": {},
   "outputs": [
    {
     "ename": "IndexError",
     "evalue": "list assignment index out of range",
     "output_type": "error",
     "traceback": [
      "\u001b[0;31m---------------------------------------------------------------------------\u001b[0m",
      "\u001b[0;31mIndexError\u001b[0m                                Traceback (most recent call last)",
      "\u001b[0;32m<ipython-input-12-42281b87deff>\u001b[0m in \u001b[0;36m<module>\u001b[0;34m\u001b[0m\n\u001b[1;32m      1\u001b[0m \u001b[0ml_1\u001b[0m\u001b[0;34m=\u001b[0m\u001b[0;34m[\u001b[0m\u001b[0;36m1\u001b[0m\u001b[0;34m,\u001b[0m\u001b[0;36m2\u001b[0m\u001b[0;34m,\u001b[0m\u001b[0;36m3\u001b[0m\u001b[0;34m,\u001b[0m\u001b[0;36m4\u001b[0m\u001b[0;34m]\u001b[0m\u001b[0;34m\u001b[0m\u001b[0;34m\u001b[0m\u001b[0m\n\u001b[0;32m----> 2\u001b[0;31m \u001b[0ml_1\u001b[0m\u001b[0;34m[\u001b[0m\u001b[0;36m50\u001b[0m\u001b[0;34m]\u001b[0m\u001b[0;34m=\u001b[0m\u001b[0;36m0\u001b[0m\u001b[0;34m\u001b[0m\u001b[0;34m\u001b[0m\u001b[0m\n\u001b[0m",
      "\u001b[0;31mIndexError\u001b[0m: list assignment index out of range"
     ]
    }
   ],
   "source": [
    "l_1=[1,2,3,4]\n",
    "l_1[50]=0 # hata verir"
   ]
  },
  {
   "cell_type": "code",
   "execution_count": null,
   "metadata": {},
   "outputs": [],
   "source": []
  }
 ],
 "metadata": {
  "kernelspec": {
   "display_name": "Python 3",
   "language": "python",
   "name": "python3"
  },
  "language_info": {
   "codemirror_mode": {
    "name": "ipython",
    "version": 3
   },
   "file_extension": ".py",
   "mimetype": "text/x-python",
   "name": "python",
   "nbconvert_exporter": "python",
   "pygments_lexer": "ipython3",
   "version": "3.6.7"
  }
 },
 "nbformat": 4,
 "nbformat_minor": 2
}
