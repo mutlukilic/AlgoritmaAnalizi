{
 "cells": [
  {
   "cell_type": "code",
   "execution_count": 12,
   "metadata": {},
   "outputs": [],
   "source": [
    "import time\n",
    "def power(x,y):\n",
    "    start=time.time()\n",
    "    t=1\n",
    "    for i in range(y):\n",
    "        t = t*x\n",
    "    stop=time.time()\n",
    "    return t,(stop-start)"
   ]
  },
  {
   "cell_type": "code",
   "execution_count": 13,
   "metadata": {},
   "outputs": [
    {
     "name": "stdout",
     "output_type": "stream",
     "text": [
      "(9, 2.6226043701171875e-06)\n"
     ]
    }
   ],
   "source": [
    "print(power(3,2))"
   ]
  },
  {
   "cell_type": "code",
   "execution_count": 28,
   "metadata": {},
   "outputs": [],
   "source": [
    "\n",
    "def power_recursive(x,y):\n",
    "    if(y==0):\n",
    "        return 1\n",
    "    if(y==1):\n",
    "        return x\n",
    "    if(y%2==0):\n",
    "        return power_recursive(x*x,y/2)\n",
    "    if(y%2==1):\n",
    "        return power_recursive(x*x*x,int(y/2))"
   ]
  },
  {
   "cell_type": "code",
   "execution_count": 29,
   "metadata": {},
   "outputs": [
    {
     "name": "stdout",
     "output_type": "stream",
     "text": [
      "64\n"
     ]
    }
   ],
   "source": [
    "print(power_recursive(4,3))"
   ]
  },
  {
   "cell_type": "code",
   "execution_count": 46,
   "metadata": {},
   "outputs": [],
   "source": [
    "sayac=0\n",
    "def power_1(m,n):\n",
    "    t=1\n",
    "    global sayac\n",
    "    for i in range(n):\n",
    "        #print(\"i sayac\",i,sayac)\n",
    "        sayac=sayac+1\n",
    "        t=t*m\n",
    "    return (t,sayac)\n",
    "def call_report(x,y):\n",
    "    global sayac\n",
    "    sayac =0\n",
    "    r=power_1(x,y)\n",
    "    print(x,\" üzeri \", y, \" degeri : \",r[0],\"çağrım sayısı : \",r[1])"
   ]
  },
  {
   "cell_type": "code",
   "execution_count": 45,
   "metadata": {},
   "outputs": [
    {
     "name": "stdout",
     "output_type": "stream",
     "text": [
      "2  üzeri  6  degeri :  64 çağrım sayısı :  7\n"
     ]
    }
   ],
   "source": [
    "def power_2(x,n):\n",
    "    global sayac\n",
    "    sayac=sayac+1\n",
    "    if(n==0):\n",
    "        return 1,sayac\n",
    "    if(n==1):\n",
    "        return x,sayac\n",
    "    if(n%2==0):\n",
    "        return (power_2(x*x,n//2)[0],power_2(x*x,n//2)[1])\n",
    "    if(n%2==1):\n",
    "        return (power_2(x*x,n//2)[0]*x,power_2(x*x,n//2)[1])\n",
    "def call_report_recursive(x,y):\n",
    "    global sayac\n",
    "    sayac =0\n",
    "    r=power_2(x,y)\n",
    "    print(x,\" üzeri \", y, \" degeri : \",r[0],\"çağrım sayısı : \",r[1])\n",
    "call_report_recursive(2,6)"
   ]
  },
  {
   "cell_type": "code",
   "execution_count": 43,
   "metadata": {},
   "outputs": [
    {
     "name": "stdout",
     "output_type": "stream",
     "text": [
      "2  üzeri  23  degeri :  8388608 çağrım sayısı :  23\n",
      "2  üzeri  20  degeri :  1048576 çağrım sayısı :  20\n",
      "3  üzeri  3  degeri :  27 çağrım sayısı :  3\n",
      "3  üzeri  30  degeri :  205891132094649 çağrım sayısı :  30\n"
     ]
    }
   ],
   "source": [
    "call_report(2,23)\n",
    "call_report(2,20)\n",
    "call_report(3,3)\n",
    "call_report(3,30)"
   ]
  },
  {
   "cell_type": "code",
   "execution_count": 21,
   "metadata": {},
   "outputs": [
    {
     "name": "stdout",
     "output_type": "stream",
     "text": [
      "3  üzeri  3  degeri :  27 çağrım sayısı :  6\n"
     ]
    }
   ],
   "source": [
    "call_report(3,3)"
   ]
  },
  {
   "cell_type": "code",
   "execution_count": null,
   "metadata": {},
   "outputs": [],
   "source": []
  }
 ],
 "metadata": {
  "kernelspec": {
   "display_name": "Python 3",
   "language": "python",
   "name": "python3"
  },
  "language_info": {
   "codemirror_mode": {
    "name": "ipython",
    "version": 3
   },
   "file_extension": ".py",
   "mimetype": "text/x-python",
   "name": "python",
   "nbconvert_exporter": "python",
   "pygments_lexer": "ipython3",
   "version": "3.6.7"
  }
 },
 "nbformat": 4,
 "nbformat_minor": 2
}
